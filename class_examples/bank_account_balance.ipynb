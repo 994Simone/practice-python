{
 "cells": [
  {
   "cell_type": "code",
   "execution_count": null,
   "metadata": {},
   "outputs": [],
   "source": [
    "\"\"\"\n",
    "Code source from YouTube video by ArjanCodes:\n",
    "https://www.youtube.com/watch?v=txRTzljmV0Q\n",
    "\n",
    "This code is a OOP (Object-Oriented) example of a BankAccount class for exercise purpose only.\n",
    "\"\"\""
   ]
  },
  {
   "cell_type": "code",
   "execution_count": 3,
   "metadata": {},
   "outputs": [],
   "source": [
    "from __future__ import annotations\n",
    "from datetime import datetime\n",
    "from enum import auto\n",
    "from strenum import StrEnum"
   ]
  },
  {
   "cell_type": "code",
   "execution_count": 4,
   "metadata": {},
   "outputs": [],
   "source": [
    "class TransactionType(StrEnum):\n",
    "    DEPOSIT = auto()\n",
    "    WITHDRAWAL = auto()\n",
    "    TRANSFER = auto()"
   ]
  },
  {
   "cell_type": "code",
   "execution_count": 5,
   "metadata": {},
   "outputs": [],
   "source": [
    "Transaction = tuple[TransactionType, datetime, int]"
   ]
  },
  {
   "cell_type": "code",
   "execution_count": 6,
   "metadata": {},
   "outputs": [],
   "source": [
    "class InsufficientBallanceError(Exception):\n",
    "    pass"
   ]
  },
  {
   "cell_type": "code",
   "execution_count": 7,
   "metadata": {},
   "outputs": [],
   "source": [
    "class BankAccount:\n",
    "    def __init__(self, initial_balance: int = 0) -> None:\n",
    "        self._balance: int = initial_balance\n",
    "        self._transaction_history: list[Transaction] = []\n",
    "    \n",
    "    def deposit(self, amount: int) -> None:\n",
    "        self._balance += amount\n",
    "        self._transaction_history.append(\n",
    "            (TransactionType.DEPOSIT, datetime.now(), amount)\n",
    "        )\n",
    "    \n",
    "    def withdraw(self, amount: int) -> None:\n",
    "        if not self._sufficient_balance(amount):\n",
    "            raise InsufficientBallanceError\n",
    "        self._balance -= amount\n",
    "        self._transaction_history.append(\n",
    "            (TransactionType.DEPOSIT, datetime.now(), amount)\n",
    "        )\n",
    "    \n",
    "    def transfer(self, other: BankAccount, amount: int) -> None:\n",
    "        if not self._sufficient_balance(amount):\n",
    "            raise InsufficientBallanceError\n",
    "        timestamp = datetime.now()\n",
    "        self._balance -= amount\n",
    "        other._balance += amount\n",
    "        self._transaction_history.append((TransactionType.TRANSFER, timestamp, amount))\n",
    "    \n",
    "    def _sufficient_balance(self, amount: int) -> bool:\n",
    "        return amount <= self._balance\n",
    "    \n",
    "    @property\n",
    "    def balance(self) -> int:\n",
    "        return self._balance\n",
    "    \n",
    "    @property\n",
    "    def transaction_history(self) -> list[Transaction]:\n",
    "        return self._transaction_history"
   ]
  },
  {
   "cell_type": "code",
   "execution_count": 8,
   "metadata": {},
   "outputs": [
    {
     "name": "stdout",
     "output_type": "stream",
     "text": [
      "Account 1 balance after withdraw: $50\n",
      "Account 2 balance after deposit: $900\n",
      "Account 1 balance after transfer: $0\n",
      "Account 2 balance after transfer: $950\n",
      "Account 1 transaction history: \n",
      " [(<TransactionType.DEPOSIT: 'DEPOSIT'>, datetime.datetime(2023, 4, 29, 12, 47, 8, 390371), 50), (<TransactionType.TRANSFER: 'TRANSFER'>, datetime.datetime(2023, 4, 29, 12, 47, 8, 393049), 50)]\n",
      "Account 2 transaction history: \n",
      " [(<TransactionType.DEPOSIT: 'DEPOSIT'>, datetime.datetime(2023, 4, 29, 12, 47, 8, 393013), 400)]\n"
     ]
    }
   ],
   "source": [
    "def main() -> None:\n",
    "\n",
    "    account1 = BankAccount(initial_balance=100)\n",
    "    account2 = BankAccount(initial_balance=500)\n",
    "\n",
    "    account1.withdraw(50)\n",
    "    print(f\"Account 1 balance after withdraw: ${account1.balance}\")\n",
    "\n",
    "    account2.deposit(400)\n",
    "    print(f\"Account 2 balance after deposit: ${account2.balance}\")\n",
    "\n",
    "    account1.transfer(account2, 50)\n",
    "    print(f\"Account 1 balance after transfer: ${account1.balance}\")\n",
    "    print(f\"Account 2 balance after transfer: ${account2.balance}\")\n",
    "\n",
    "    print(f\"Account 1 transaction history: \\n {account1.transaction_history}\")\n",
    "    print(f\"Account 2 transaction history: \\n {account2.transaction_history}\")\n",
    "\n",
    "\n",
    "if __name__ == \"__main__\":\n",
    "    main()"
   ]
  }
 ],
 "metadata": {
  "interpreter": {
   "hash": "1936c18bd776127681bd69dc0ccfbf7f99f20890282b91e8f993a83c7ad1037c"
  },
  "kernelspec": {
   "display_name": "Python 3.9.12 ('spyder-env')",
   "language": "python",
   "name": "python3"
  },
  "language_info": {
   "codemirror_mode": {
    "name": "ipython",
    "version": 3
   },
   "file_extension": ".py",
   "mimetype": "text/x-python",
   "name": "python",
   "nbconvert_exporter": "python",
   "pygments_lexer": "ipython3",
   "version": "3.9.12"
  },
  "orig_nbformat": 4
 },
 "nbformat": 4,
 "nbformat_minor": 2
}
